{
  "cells": [
    {
      "cell_type": "code",
      "source": [
        "stu_name = 'Mana Abbaszadeh'\n",
        "stu_num = '400109638'"
      ],
      "metadata": {
        "id": "q4oEgtrsYWlK"
      },
      "execution_count": null,
      "outputs": []
    },
    {
      "cell_type": "markdown",
      "metadata": {
        "id": "K1-izC4ZKHJ9"
      },
      "source": [
        "<h1 style=\"text-align: center\">\n",
        "Machine Learning </br>\n",
        "MLE & MAP in Python\n",
        "</h1>\n"
      ]
    },
    {
      "cell_type": "markdown",
      "metadata": {
        "id": "YhTuYwHYbE_1"
      },
      "source": [
        "## Objective\n",
        "This exercise will help you gain a deeper understanding of, and insights into, Maximum Likelihood Estimation (MLE) and Maximum A Posteriori (MAP) estimation$\\textit{Maximum Likelihood Estimation (MLE) and Maximum A Posteriori (MAP) }$ :) \\\\\n",
        "Let’s say you have a barrel of apples that are all different sizes. You pick an apple at random, and you want to know its weight. Unfortunately, all you have is a broken scale. answer the questions below."
      ]
    },
    {
      "cell_type": "markdown",
      "metadata": {
        "id": "eSaLb6AYa9DJ"
      },
      "source": [
        "1) For the sake of this section, lets imagine a farmer tells you that the scale returns the weight of the object with an error of +/- a standard deviation of 5g. We can describe this mathematically as:\n",
        "$$\n",
        "measurement = weight + \\mathcal{N}(0, 5g)\n",
        "$$\n",
        "You can weigh the apple as many times as you want, so weigh it 100 times.\n",
        "plot its histogram of your 100 measurements. (y axis is the counts and x-axis is the measured weight)"
      ]
    },
    {
      "cell_type": "code",
      "source": [
        "import numpy as np\n",
        "import matplotlib.pyplot as plt"
      ],
      "metadata": {
        "id": "GJqLsWvDbn0i"
      },
      "execution_count": 1,
      "outputs": []
    },
    {
      "cell_type": "code",
      "execution_count": 45,
      "metadata": {
        "id": "hPMnHTcia07a",
        "colab": {
          "base_uri": "https://localhost:8080/",
          "height": 449
        },
        "outputId": "a5398724-d280-4713-f023-d8664fe4a35f"
      },
      "outputs": [
        {
          "output_type": "display_data",
          "data": {
            "text/plain": [
              "<Figure size 640x480 with 1 Axes>"
            ],
            "image/png": "[encoded data removed]"
          },
          "metadata": {}
        }
      ],
      "source": [
        "std = 5\n",
        "measure_times = 100\n",
        "real_apple_weight = 150  # Arbitrary\n",
        "measurements = np.random.normal(real_apple_weight, std, measure_times)\n",
        "plt.hist(measurements, bins=30, edgecolor='black')\n",
        "plt.xlabel('Measured Weight')\n",
        "plt.show()"
      ]
    },
    {
      "cell_type": "markdown",
      "metadata": {
        "id": "HD9Mqy-bcPi5"
      },
      "source": [
        "2) Find the average weight of the apple.\n",
        "Is it a good guess? state your reason."
      ]
    },
    {
      "cell_type": "code",
      "execution_count": 46,
      "metadata": {
        "id": "xlCBTC0lcPKa",
        "colab": {
          "base_uri": "https://localhost:8080/"
        },
        "outputId": "f51feabb-ca6e-4f2d-c7cc-59183380d15f"
      },
      "outputs": [
        {
          "output_type": "stream",
          "name": "stdout",
          "text": [
            "150.9316611881365\n"
          ]
        }
      ],
      "source": [
        "print(measurements.mean())"
      ]
    },
    {
      "cell_type": "markdown",
      "metadata": {
        "id": "y-P9PJuKcrbq"
      },
      "source": [
        "3) we are going to use grid approximation for calculating the MLE. here is the link if you wnat to get more fimilar with this technique:\n",
        "https://www.bayesrulesbook.com/chapter-6\n",
        "\n",
        "Our end goal is to find the weight of the apple, given the data we have. To formulate it in a Bayesian way: We’ll ask what is the probability of the apple having weight, $w$, given the measurements we took, $X$. And, because we're formulating this in a Bayesian way, we use Bayes’ Law to find the answer:\n",
        "\n",
        "$$\n",
        "P(w|X) = \\frac{P(X|w)P(w)}{P(X)}\n",
        "$$\n",
        "\n",
        "If we make no assumptions about the initial weight of our apple, then we can drop $P(w)$. We’ll say all sizes of apples are equally likely (we’ll revisit this assumption in the MAP approximation).\n",
        "\n",
        "Furthermore, we’ll drop $P(X)$ - the probability of seeing our data. This is a normalization constant and will be important if we do want to know the probabilities of apple weights. But, for right now, our end goal is to only to find the most probable weight. $P(X)$ is independent of $w$, so we can drop it if we’re doing relative comparisons.\n",
        "\n",
        "This leaves us with $P(X|w)$, our likelihood, as in, what is the likelihood that we would see the data, $X$, given an apple of weight $w$. If we maximize this, we maximize the probability that we will guess the right weight.\n",
        "\n",
        "The grid approximation is probably the simplest way to do this. Basically, we’ll systematically step through different weight guesses, and compare what it would look like if this hypothetical weight were to generate data. We’ll compare this hypothetical data to our real data and pick the one that matches the best.\n",
        "\n",
        "To formulate this mathematically:\n",
        "\n",
        "For each of these guesses, we’re asking \"what is the probability that the data we have, came from the distribution that our weight guess would generate\". Because each measurement is independent from another, we can break the above equation down into finding the probability on a per measurement basis:\n",
        "\n",
        "$$\n",
        "P(X|w) = \\prod_{i}^{N} p(x_i|w)\n",
        "$$\n",
        "\n",
        "So, if we multiply the probability that we would see each individual data point - given our weight guess - then we can find one number comparing our weight guess to all of our data.\n",
        "\n",
        "The peak in the likelihood is the weight of the apple.\n",
        "\n",
        "To make it computationally easier,\n",
        "\n",
        "$$\n",
        "\\log P(X|w) = \\log \\prod_{i}^{N} p(x_i|w) = \\sum_{i}^{N} \\log p(d_i|w)\n",
        "$$\n",
        "\n",
        "\n",
        "\n",
        "a) Why did we use log likelihood? Is it ok to do so?\n",
        "\n",
        "Answer: By using log we transform products to sums so the calculation becomes easier and faster. Usin larger datasets is no longer a problem. Using log likelihood is ok as it increases uniformly.\n",
        "\n",
        "b) do the grid approximation and complete the cell below"
      ]
    },
    {
      "cell_type": "code",
      "execution_count": 47,
      "metadata": {
        "id": "9NnWmxzTiRfr",
        "colab": {
          "base_uri": "https://localhost:8080/",
          "height": 105
        },
        "outputId": "aae33012-2708-47de-c9d3-82ed1101af4f"
      },
      "outputs": [
        {
          "output_type": "stream",
          "name": "stdout",
          "text": [
            "Maximum Likelihood Estimation of the apple: 100.0\n"
          ]
        },
        {
          "output_type": "execute_result",
          "data": {
            "text/plain": [
              "'\\nCalculate the maximum likelihood estimate of a parameter in a normal distribution.\\nFirst calculate the log likelihoods for a range of weight guesses.\\nFor each weight guess, assume that the data comes from a normal distribution with that mean and a standard deviation of 10.\\nThen calculate the log of the probability density function (pdf) of the data under this assumption.\\nThe sum of these log pdf values is the total log likelihood for that weight guess.\\nAfter calculating the log likelihoods for all weight guesses, find the weight guess with the maximum log likelihood.\\nThis is the maximum likelihood estimate of the weight.\\n'"
            ],
            "application/vnd.google.colaboratory.intrinsic+json": {
              "type": "string"
            }
          },
          "metadata": {},
          "execution_count": 47
        }
      ],
      "source": [
        "weight_grid = np.linspace(0, 100)\n",
        "\n",
        "likelihoods = []\n",
        "for weight in weight_grid:\n",
        "    log = np.sum(-0.5 * np.log(2 * np.pi * 5**2) - 0.5 * ((measurements - weight) / 5)**2)\n",
        "    likelihoods.append(log)\n",
        "ml_index = np.argmax(likelihoods)\n",
        "ml_weight = weight_grid[ml_index]\n",
        "print(f'Maximum Likelihood Estimation of the apple: {ml_weight}')\n",
        "\n",
        "'''\n",
        "Calculate the maximum likelihood estimate of a parameter in a normal distribution.\n",
        "First calculate the log likelihoods for a range of weight guesses.\n",
        "For each weight guess, assume that the data comes from a normal distribution with that mean and a standard deviation of 10.\n",
        "Then calculate the log of the probability density function (pdf) of the data under this assumption.\n",
        "The sum of these log pdf values is the total log likelihood for that weight guess.\n",
        "After calculating the log likelihoods for all weight guesses, find the weight guess with the maximum log likelihood.\n",
        "This is the maximum likelihood estimate of the weight.\n",
        "'''"
      ]
    },
    {
      "cell_type": "markdown",
      "metadata": {
        "id": "NN3lt2npcc2S"
      },
      "source": [
        "Play around with the code and try to answer the following questions regarding MLE and MAP. You can draw plots to visualize as well."
      ]
    },
    {
      "cell_type": "code",
      "execution_count": 48,
      "metadata": {
        "id": "ezcWTpNQamCL",
        "colab": {
          "base_uri": "https://localhost:8080/"
        },
        "outputId": "3de77a38-1867-4d39-c33b-c830336158e2"
      },
      "outputs": [
        {
          "output_type": "stream",
          "name": "stdout",
          "text": [
            "Average measurement: 93.746 g\n",
            "Maximum Likelihood estimate: 151.758 g\n",
            "Maximum A Posterior estimate: 51.253 g\n",
            "The true weight of the apple was: 95.261 g\n"
          ]
        }
      ],
      "source": [
        "import numpy as np\n",
        "from scipy.stats import norm, invgamma\n",
        "\n",
        "\n",
        "# The barrel of apples\n",
        "# The average apples is between 70-100 g\n",
        "BARREL = np.random.normal(loc=85, scale=20, size=100)\n",
        "# Grid\n",
        "WEIGHT_GUESSES = np.linspace(1, 200, 100)\n",
        "ERROR_GUESSES = np.linspace(.1, 50, 100)\n",
        "\n",
        "# NOTE: Try changing the scale error\n",
        "# in practice, you would not know this number\n",
        "SCALE_ERR = 5\n",
        "\n",
        "# NOTE: Try changing the number of measurements taken\n",
        "N_MEASURMENTS = 10\n",
        "\n",
        "# NOTE: Try changing the prior values and distributions\n",
        "PRIOR_WEIGHT = norm(50, 1).logpdf(WEIGHT_GUESSES)\n",
        "PRIOR_ERR = invgamma(4).logpdf(ERROR_GUESSES)\n",
        "\n",
        "LOG_PRIOR_GRID = np.add.outer(PRIOR_ERR, PRIOR_WEIGHT)\n",
        "\n",
        "\n",
        "def read_scale(apple):\n",
        "    return apple + np.random.normal(loc=0, scale=SCALE_ERR)\n",
        "\n",
        "\n",
        "def get_log_likelihood_grid(measurments):\n",
        "    log_liklelihood = [\n",
        "        [\n",
        "            norm(weight_guess, error_guess).logpdf(measurments).sum()\n",
        "            for weight_guess in WEIGHT_GUESSES\n",
        "        ]\n",
        "        for error_guess in ERROR_GUESSES\n",
        "    ]\n",
        "    return np.asarray(log_liklelihood)\n",
        "\n",
        "\n",
        "def get_mle(measurments):\n",
        "    grid = get_log_likelihood_grid(measurements)\n",
        "    # Maximum value in the flattened array\n",
        "    max_val = np.argmax(grid, axis=None)\n",
        "    ml_weight = np.unravel_index(max_val, grid.shape)\n",
        "    return WEIGHT_GUESSES[ml_weight[1]]\n",
        "\n",
        "    \"\"\"\n",
        "    Calculate the log-likelihood for each measurement in the grid.\n",
        "    Find the index of the maximum log-likelihood in the grid.\n",
        "    Return the weight guess corresponding to the maximum log-likelihood.\n",
        "    \"\"\"\n",
        "\n",
        "\n",
        "def get_map(measurements):\n",
        "    grid = get_log_likelihood_grid(measurements)\n",
        "    post_grid = LOG_PRIOR_GRID + grid\n",
        "    max_val = np.argmax(post_grid, axis=None)\n",
        "    map_weight = np.unravel_index(max_val, post_grid.shape)\n",
        "    return WEIGHT_GUESSES[map_weight[1]]\n",
        "\n",
        "    \"\"\"\n",
        "    Calculate the log-likelihood for each measurement in the grid.\n",
        "    Add the log prior to the log likelihood to get the log posterior.\n",
        "    Find the index of the maximum log posterior in the grid.\n",
        "    Return the weight guess corresponding to the maximum log posterior.\n",
        "    \"\"\"\n",
        "\n",
        "# Pick an apple at random\n",
        "apple = np.random.choice(BARREL)\n",
        "\n",
        "# weight the apple\n",
        "measurments = np.asarray([read_scale(apple) for _ in range(N_MEASURMENTS)])\n",
        "\n",
        "print(f\"Average measurement: {measurments.mean():.3f} g\")\n",
        "print(f\"Maximum Likelihood estimate: {get_mle(measurments):.3f} g\")\n",
        "print(f\"Maximum A Posterior estimate: {get_map(measurments):.3f} g\")\n",
        "print(f\"The true weight of the apple was: {apple:.3f} g\")"
      ]
    },
    {
      "cell_type": "markdown",
      "source": [
        "###Change the scale error:"
      ],
      "metadata": {
        "id": "EHf6FmVplwCU"
      }
    },
    {
      "cell_type": "code",
      "source": [
        "BARREL = np.random.normal(loc=85, scale=20, size=100)\n",
        "# Grid\n",
        "WEIGHT_GUESSES = np.linspace(1, 200, 100)\n",
        "ERROR_GUESSES = np.linspace(.1, 50, 100)\n",
        "\n",
        "# NOTE: Try changing the scale error\n",
        "# in practice, you would not know this number\n",
        "SCALE_ERR = 10\n",
        "\n",
        "# NOTE: Try changing the number of measurements taken\n",
        "N_MEASURMENTS = 10\n",
        "\n",
        "# NOTE: Try changing the prior values and distributions\n",
        "PRIOR_WEIGHT = norm(50, 1).logpdf(WEIGHT_GUESSES)\n",
        "PRIOR_ERR = invgamma(4).logpdf(ERROR_GUESSES)\n",
        "\n",
        "LOG_PRIOR_GRID = np.add.outer(PRIOR_ERR, PRIOR_WEIGHT)\n",
        "\n",
        "# Pick an apple at random\n",
        "apple = np.random.choice(BARREL)\n",
        "\n",
        "# weight the apple\n",
        "measurments = np.asarray([read_scale(apple) for _ in range(N_MEASURMENTS)])\n",
        "\n",
        "print(f\"Average measurement: {measurments.mean():.3f} g\")\n",
        "print(f\"Maximum Likelihood estimate: {get_mle(measurments):.3f} g\")\n",
        "print(f\"Maximum A Posterior estimate: {get_map(measurments):.3f} g\")\n",
        "print(f\"The true weight of the apple was: {apple:.3f} g\")"
      ],
      "metadata": {
        "colab": {
          "base_uri": "https://localhost:8080/"
        },
        "id": "26ZTKCEZlepi",
        "outputId": "8d55bcf3-15bb-4b55-e3b1-78cd8d96e92e"
      },
      "execution_count": 49,
      "outputs": [
        {
          "output_type": "stream",
          "name": "stdout",
          "text": [
            "Average measurement: 95.719 g\n",
            "Maximum Likelihood estimate: 151.758 g\n",
            "Maximum A Posterior estimate: 51.253 g\n",
            "The true weight of the apple was: 96.886 g\n"
          ]
        }
      ]
    },
    {
      "cell_type": "markdown",
      "source": [
        "###Change the grid size:"
      ],
      "metadata": {
        "id": "cSRepk_yl9gF"
      }
    },
    {
      "cell_type": "code",
      "source": [
        "BARREL = np.random.normal(loc=85, scale=20, size=100)\n",
        "# Grid\n",
        "WEIGHT_GUESSES = np.linspace(1, 200, 150)\n",
        "ERROR_GUESSES = np.linspace(.1, 50, 150)\n",
        "\n",
        "# NOTE: Try changing the scale error\n",
        "# in practice, you would not know this number\n",
        "SCALE_ERR = 5\n",
        "\n",
        "# NOTE: Try changing the number of measurements taken\n",
        "N_MEASURMENTS = 10\n",
        "\n",
        "# NOTE: Try changing the prior values and distributions\n",
        "PRIOR_WEIGHT = norm(50, 1).logpdf(WEIGHT_GUESSES)\n",
        "PRIOR_ERR = invgamma(4).logpdf(ERROR_GUESSES)\n",
        "\n",
        "LOG_PRIOR_GRID = np.add.outer(PRIOR_ERR, PRIOR_WEIGHT)\n",
        "\n",
        "# Pick an apple at random\n",
        "apple = np.random.choice(BARREL)\n",
        "\n",
        "# weight the apple\n",
        "measurments = np.asarray([read_scale(apple) for _ in range(N_MEASURMENTS)])\n",
        "\n",
        "print(f\"Average measurement: {measurments.mean():.3f} g\")\n",
        "print(f\"Maximum Likelihood estimate: {get_mle(measurments):.3f} g\")\n",
        "print(f\"Maximum A Posterior estimate: {get_map(measurments):.3f} g\")\n",
        "print(f\"The true weight of the apple was: {apple:.3f} g\")"
      ],
      "metadata": {
        "colab": {
          "base_uri": "https://localhost:8080/"
        },
        "id": "avepkbxll0vI",
        "outputId": "e4ca54e0-af82-45ab-8eac-7607b915c54c"
      },
      "execution_count": 54,
      "outputs": [
        {
          "output_type": "stream",
          "name": "stdout",
          "text": [
            "Average measurement: 79.304 g\n",
            "Maximum Likelihood estimate: 150.584 g\n",
            "Maximum A Posterior estimate: 50.416 g\n",
            "The true weight of the apple was: 76.194 g\n"
          ]
        }
      ]
    },
    {
      "cell_type": "markdown",
      "source": [
        "###Change the prior values and distributionsv (mean and std_dev):"
      ],
      "metadata": {
        "id": "QTGZL3ZgnEZ6"
      }
    },
    {
      "cell_type": "code",
      "source": [
        "BARREL = np.random.normal(loc=85, scale=20, size=100)\n",
        "# Grid\n",
        "WEIGHT_GUESSES = np.linspace(1, 200, 100)\n",
        "ERROR_GUESSES = np.linspace(.1, 50, 100)\n",
        "\n",
        "# NOTE: Try changing the scale error\n",
        "# in practice, you would not know this number\n",
        "SCALE_ERR = 5\n",
        "\n",
        "# NOTE: Try changing the number of measurements taken\n",
        "N_MEASURMENTS = 10\n",
        "\n",
        "# NOTE: Try changing the prior values and distributions\n",
        "PRIOR_WEIGHT = norm(20, 2).logpdf(WEIGHT_GUESSES)\n",
        "PRIOR_ERR = invgamma(4).logpdf(ERROR_GUESSES)\n",
        "\n",
        "LOG_PRIOR_GRID = np.add.outer(PRIOR_ERR, PRIOR_WEIGHT)\n",
        "\n",
        "# Pick an apple at random\n",
        "apple = np.random.choice(BARREL)\n",
        "\n",
        "# weight the apple\n",
        "measurments = np.asarray([read_scale(apple) for _ in range(N_MEASURMENTS)])\n",
        "\n",
        "print(f\"Average measurement: {measurments.mean():.3f} g\")\n",
        "print(f\"Maximum Likelihood estimate: {get_mle(measurments):.3f} g\")\n",
        "print(f\"Maximum A Posterior estimate: {get_map(measurments):.3f} g\")\n",
        "print(f\"The true weight of the apple was: {apple:.3f} g\")"
      ],
      "metadata": {
        "colab": {
          "base_uri": "https://localhost:8080/"
        },
        "id": "1dAyI0skmHHZ",
        "outputId": "ca8ec4bf-c420-49f3-c414-1fe3a5b42ab1"
      },
      "execution_count": 53,
      "outputs": [
        {
          "output_type": "stream",
          "name": "stdout",
          "text": [
            "Average measurement: 103.693 g\n",
            "Maximum Likelihood estimate: 151.758 g\n",
            "Maximum A Posterior estimate: 21.101 g\n",
            "The true weight of the apple was: 102.682 g\n"
          ]
        }
      ]
    },
    {
      "cell_type": "markdown",
      "metadata": {
        "id": "LI_541TpetKk"
      },
      "source": [
        "<h3><i><i> Questions</h3>\n",
        "1.\n",
        "How sensitive is the MAP measurement to the choice of prior?\n",
        "\n",
        "Answer:\n",
        "\n",
        "The sensitivity of Maximum A Posteriori (MAP) estimation to the choice of prior depends on many factors such as the distribution of the likelihood, the strength of the prior information or the amount of available data. For instance informative likelihoods reduce sensitivity. On the other hand, strong priors or limited data increase sensitivity."
      ]
    },
    {
      "cell_type": "markdown",
      "metadata": {
        "id": "RMV-wgYXes_O"
      },
      "source": [
        "<h3><i><i></h3>\n",
        "2. How sensitive is the MLE and MAP answer to the grid size?\n",
        "\n",
        "Answer:\n",
        "\n",
        "Both MLEA and MAP are sensitive to the grid size but MAP is more sensitive. THE bigger the grid size and the finer the grid, the more accurate MAP and MLE estimates will be. However, increasing the grid size also comes with computational costs, so it's important to make a balance between accuracy and computational efficiency.\n"
      ]
    }
  ],
  "metadata": {
    "colab": {
      "provenance": []
    },
    "kernelspec": {
      "display_name": "Python 3",
      "name": "python3"
    },
    "language_info": {
      "name": "python"
    }
  },
  "nbformat": 4,
  "nbformat_minor": 0
}